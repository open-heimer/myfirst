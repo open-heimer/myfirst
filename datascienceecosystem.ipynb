{
 "cells": [
  {
   "cell_type": "markdown",
   "id": "e937a4b6",
   "metadata": {},
   "source": [
    "# Data Science Tools and Ecosystem"
   ]
  },
  {
   "cell_type": "markdown",
   "id": "8bfede50",
   "metadata": {},
   "source": [
    "In this notebook data science tools and ecosystem are summarized"
   ]
  },
  {
   "cell_type": "markdown",
   "id": "31693a98",
   "metadata": {},
   "source": [
    "Objectives:\n",
    "- **popular languages that data scientist**\n",
    "- **commonly used libraries by data scientist**\n",
    "- **simple arithmetic expression**"
   ]
  },
  {
   "cell_type": "markdown",
   "id": "273829af",
   "metadata": {},
   "source": [
    "Some of the popular languages that data scientist use are\n",
    "1. python\n",
    "2. R\n",
    "3. Java\n",
    "4. Julia\n",
    "5. Scala"
   ]
  },
  {
   "cell_type": "markdown",
   "id": "e4a5dec1",
   "metadata": {},
   "source": [
    "Some of the commonly used libraries by data scientist include\n",
    "1. Scientific computing Libraries\n",
    "2. Visulaization libraries\n",
    "3. Machine Learning and deep learning libraries\n",
    "4. Other Language libraries"
   ]
  },
  {
   "cell_type": "markdown",
   "id": "e209c749",
   "metadata": {},
   "source": [
    "|Data Science Tools|\n",
    "|------------------|\n",
    "|R studio|\n",
    "|Jupyter Notebook|\n",
    "|spyder|"
   ]
  },
  {
   "cell_type": "markdown",
   "id": "0fb9ac72",
   "metadata": {},
   "source": [
    "### Below are few examples of evaluating arithmetic expressions in python  "
   ]
  },
  {
   "cell_type": "markdown",
   "id": "47d4a4f9",
   "metadata": {},
   "source": [
    "This a simple arithmetic expression to mutiply then add integers"
   ]
  },
  {
   "cell_type": "code",
   "execution_count": 1,
   "id": "6fb99bbe",
   "metadata": {},
   "outputs": [
    {
     "data": {
      "text/plain": [
       "17"
      ]
     },
     "execution_count": 1,
     "metadata": {},
     "output_type": "execute_result"
    }
   ],
   "source": [
    "(3*4)+5"
   ]
  },
  {
   "cell_type": "markdown",
   "id": "651741bd",
   "metadata": {},
   "source": [
    "This will convert 200 minutes to hours by diving by 60"
   ]
  },
  {
   "cell_type": "code",
   "execution_count": 2,
   "id": "a62961ca",
   "metadata": {},
   "outputs": [
    {
     "data": {
      "text/plain": [
       "3.3333333333333335"
      ]
     },
     "execution_count": 2,
     "metadata": {},
     "output_type": "execute_result"
    }
   ],
   "source": [
    "200/60"
   ]
  },
  {
   "cell_type": "markdown",
   "id": "5f6bc634",
   "metadata": {},
   "source": [
    "## Author\n",
    "Richu Thomas Noble"
   ]
  },
  {
   "cell_type": "code",
   "execution_count": null,
   "id": "44469cf4",
   "metadata": {},
   "outputs": [],
   "source": []
  }
 ],
 "metadata": {
  "kernelspec": {
   "display_name": "Python 3 (ipykernel)",
   "language": "python",
   "name": "python3"
  },
  "language_info": {
   "codemirror_mode": {
    "name": "ipython",
    "version": 3
   },
   "file_extension": ".py",
   "mimetype": "text/x-python",
   "name": "python",
   "nbconvert_exporter": "python",
   "pygments_lexer": "ipython3",
   "version": "3.11.3"
  }
 },
 "nbformat": 4,
 "nbformat_minor": 5
}
